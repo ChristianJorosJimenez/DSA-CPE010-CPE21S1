{
  "nbformat": 4,
  "nbformat_minor": 0,
  "metadata": {
    "colab": {
      "provenance": [],
      "authorship_tag": "ABX9TyNS5/yuz4qEf4FVlaHeR0fW",
      "include_colab_link": true
    },
    "kernelspec": {
      "name": "python3",
      "display_name": "Python 3"
    },
    "language_info": {
      "name": "python"
    }
  },
  "cells": [
    {
      "cell_type": "markdown",
      "metadata": {
        "id": "view-in-github",
        "colab_type": "text"
      },
      "source": [
        "<a href=\"https://colab.research.google.com/github/ChristianJorosJimenez/DSA-CPE010-CPE21S1/blob/main/practice_problem.ipynb\" target=\"_parent\"><img src=\"https://colab.research.google.com/assets/colab-badge.svg\" alt=\"Open In Colab\"/></a>"
      ]
    },
    {
      "cell_type": "markdown",
      "source": [
        "**Jimenez, Christian Joros R. CPE21S1**"
      ],
      "metadata": {
        "id": "nUKvs2ENTCbc"
      }
    },
    {
      "cell_type": "code",
      "execution_count": 1,
      "metadata": {
        "colab": {
          "base_uri": "https://localhost:8080/"
        },
        "id": "Rpzb0cMEQcfY",
        "outputId": "42d2e8c3-16c1-46c8-a263-f0c26076a682"
      },
      "outputs": [
        {
          "output_type": "stream",
          "name": "stdout",
          "text": [
            "The sum of test scores is: 186\n"
          ]
        }
      ],
      "source": [
        "testscores = [26, 49, 98, 87, 62, 75]\n",
        "sum = 0\n",
        "\n",
        "for testscores in testscores:\n",
        "  if testscores % 2 == 0:\n",
        "    sum += testscores\n",
        "\n",
        "print(f\"The sum of test scores is: {sum}\")"
      ]
    }
  ]
}