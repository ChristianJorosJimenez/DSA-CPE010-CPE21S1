{
  "nbformat": 4,
  "nbformat_minor": 0,
  "metadata": {
    "colab": {
      "provenance": [],
      "authorship_tag": "ABX9TyO/03l7qHNUI4n+lT9O+ipE",
      "include_colab_link": true
    },
    "kernelspec": {
      "name": "python3",
      "display_name": "Python 3"
    },
    "language_info": {
      "name": "python"
    }
  },
  "cells": [
    {
      "cell_type": "markdown",
      "metadata": {
        "id": "view-in-github",
        "colab_type": "text"
      },
      "source": [
        "<a href=\"https://colab.research.google.com/github/ChristianJorosJimenez/DSA-CPE010-CPE21S1/blob/main/Exercise3.ipynb\" target=\"_parent\"><img src=\"https://colab.research.google.com/assets/colab-badge.svg\" alt=\"Open In Colab\"/></a>"
      ]
    },
    {
      "cell_type": "markdown",
      "source": [
        "Accessing elements of an array"
      ],
      "metadata": {
        "id": "WgbHCNDdZvN_"
      }
    },
    {
      "cell_type": "code",
      "execution_count": 1,
      "metadata": {
        "colab": {
          "base_uri": "https://localhost:8080/"
        },
        "id": "i4gbgayKZuUv",
        "outputId": "96d4090d-7fff-41f8-aa4a-cc89317cc9f5"
      },
      "outputs": [
        {
          "output_type": "stream",
          "name": "stdout",
          "text": [
            "Element at index 0: GPU\n",
            "Element at index 2: MOTHERBORD\n",
            "Element at index 2: SSD\n"
          ]
        }
      ],
      "source": [
        "pc_parts = [\"GPU\", \"CPU\", \"MOTHERBORD\", \"SSD\"]\n",
        "print(\"Element at index 0:\", pc_parts[0])\n",
        "print(\"Element at index 2:\", pc_parts[2])\n",
        "print(\"Element at index 2:\", pc_parts[3])"
      ]
    },
    {
      "cell_type": "markdown",
      "source": [
        "Modifying the Elements in the Array"
      ],
      "metadata": {
        "id": "pTvu3x-sZ5On"
      }
    },
    {
      "cell_type": "code",
      "source": [
        "test_scores = [\"1.50\", \"1.75\", \"2,50\", \"2.0\", \"3.0\"]\n",
        "\n",
        "print(\"Original array:\", test_scores)\n",
        "\n",
        "test_scores[4] = \"1.0\"\n",
        "\n",
        "print(\"Modified array:\", test_scores)"
      ],
      "metadata": {
        "colab": {
          "base_uri": "https://localhost:8080/"
        },
        "id": "3fE8B6rfZ73I",
        "outputId": "5108d89c-5544-4486-c459-6ed0460fbcf6"
      },
      "execution_count": 4,
      "outputs": [
        {
          "output_type": "stream",
          "name": "stdout",
          "text": [
            "Original array: ['1.50', '1.75', '2,50', '2.0', '3.0']\n",
            "Modified array: ['1.50', '1.75', '2,50', '2.0', '1.0']\n"
          ]
        }
      ]
    },
    {
      "cell_type": "markdown",
      "source": [
        "Length of an array"
      ],
      "metadata": {
        "id": "ka7V53tvawka"
      }
    },
    {
      "cell_type": "code",
      "source": [
        "flavors = [\"apple\", \"banana\", \"cherry\", \"date\", \"elderberry\"]\n",
        "\n",
        "flavors = len(flavors)\n",
        "\n",
        "print(\"array length:\", flavors)"
      ],
      "metadata": {
        "colab": {
          "base_uri": "https://localhost:8080/"
        },
        "id": "wJ1DXSAPayPG",
        "outputId": "d2f1abbc-9660-4b98-c1eb-b94c0e6c9f42"
      },
      "execution_count": 3,
      "outputs": [
        {
          "output_type": "stream",
          "name": "stdout",
          "text": [
            "array length: 5\n"
          ]
        }
      ]
    },
    {
      "cell_type": "markdown",
      "source": [
        "Looping Array Elements"
      ],
      "metadata": {
        "id": "8k3ELWRnayzh"
      }
    },
    {
      "cell_type": "code",
      "source": [
        "car_parts = [\"Battery\", \"Engine\", \"Mags\", \"Brakes\", \"Chassis\"]\n",
        "\n",
        "for element in car_parts:\n",
        "    print(\"Element:\", element)"
      ],
      "metadata": {
        "colab": {
          "base_uri": "https://localhost:8080/"
        },
        "id": "1ZSd-u-ga0iN",
        "outputId": "9f1e20fd-4449-4f49-f134-dbe6c9a0ea45"
      },
      "execution_count": 2,
      "outputs": [
        {
          "output_type": "stream",
          "name": "stdout",
          "text": [
            "Element: Battery\n",
            "Element: Engine\n",
            "Element: Mags\n",
            "Element: Brakes\n",
            "Element: Chassis\n"
          ]
        }
      ]
    },
    {
      "cell_type": "markdown",
      "source": [
        "Adding Elements in the Array"
      ],
      "metadata": {
        "id": "jzZJFwWSbbVN"
      }
    },
    {
      "cell_type": "code",
      "source": [
        "Variables = [\"X\", \"Y\", \"Z\", \"A\", \"P\"]\n",
        "print(\"Variables:\", Variables)\n",
        "\n",
        "while True:\n",
        "        word = input(\"Enter a variable (type 'done' to finish): \")\n",
        "        if word.lower() == \"done\":\n",
        "            break\n",
        "        Variables.append(word)\n",
        "\n",
        "print(\"Updated array:\", Variables)"
      ],
      "metadata": {
        "colab": {
          "base_uri": "https://localhost:8080/"
        },
        "id": "mK4UsydObdv-",
        "outputId": "178f79e0-fff6-446c-b4f9-f87069dd6563"
      },
      "execution_count": 5,
      "outputs": [
        {
          "output_type": "stream",
          "name": "stdout",
          "text": [
            "Variables: ['X', 'Y', 'Z', 'A', 'P']\n",
            "Enter a variable (type 'done' to finish): R\n",
            "Enter a variable (type 'done' to finish): P\n",
            "Enter a variable (type 'done' to finish): done\n",
            "Updated array: ['X', 'Y', 'Z', 'A', 'P', 'R', 'P']\n"
          ]
        }
      ]
    },
    {
      "cell_type": "markdown",
      "source": [
        "Removing an Element in the Array"
      ],
      "metadata": {
        "id": "nw9r-kDBdOb7"
      }
    },
    {
      "cell_type": "code",
      "source": [
        "shopping_cart = [\"apple\", \"milk\", \"canned food\", \"chicken meat\"]\n",
        "\n",
        "print(\"shopping cart:\", shopping_cart)\n",
        "\n",
        "while True:\n",
        "    word_to_remove = input(\"remove item to shopping cart (type 'done' to finish): \")\n",
        "    if word_to_remove.lower() == \"done\":\n",
        "        break\n",
        "\n",
        "    if word_to_remove in shopping_cart:\n",
        "        shopping_cart.remove(word_to_remove)\n",
        "        print(f\"{word_to_remove} item removed.\")\n",
        "    else:\n",
        "        print(f\"{word_to_remove} item is not in your shopping cart.\")\n",
        "\n",
        "print(\"Updated array:\", shopping_cart)"
      ],
      "metadata": {
        "colab": {
          "base_uri": "https://localhost:8080/"
        },
        "id": "dwqJBwiWeHPL",
        "outputId": "8e67e41a-64bf-4448-d9ee-b0044e2ebf73"
      },
      "execution_count": 6,
      "outputs": [
        {
          "output_type": "stream",
          "name": "stdout",
          "text": [
            "shopping cart: ['apple', 'milk', 'canned food', 'chicken meat']\n",
            "remove item to shopping cart (type 'done' to finish): milk\n",
            "milk item removed.\n",
            "remove item to shopping cart (type 'done' to finish): done\n",
            "Updated array: ['apple', 'canned food', 'chicken meat']\n"
          ]
        }
      ]
    },
    {
      "cell_type": "markdown",
      "source": [
        "Rversing elements in an array"
      ],
      "metadata": {
        "id": "ae6mtAIwepaT"
      }
    },
    {
      "cell_type": "code",
      "source": [
        "number_set = [\"30\", \"40\", \"50\", \"60\", \"70\"]\n",
        "\n",
        "print(\"Original array:\", number_set)\n",
        "\n",
        "reversed_array = number_set[::-1]\n",
        "\n",
        "print(\"Reversed array:\", reversed_array)"
      ],
      "metadata": {
        "colab": {
          "base_uri": "https://localhost:8080/"
        },
        "id": "MqpFnipHerfg",
        "outputId": "eaa4746c-4650-40ba-db81-bdbdbe3a3f9f"
      },
      "execution_count": 7,
      "outputs": [
        {
          "output_type": "stream",
          "name": "stdout",
          "text": [
            "Original array: ['30', '40', '50', '60', '70']\n",
            "Reversed array: ['70', '60', '50', '40', '30']\n"
          ]
        }
      ]
    }
  ]
}