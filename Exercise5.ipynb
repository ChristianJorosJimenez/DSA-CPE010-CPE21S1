{
  "nbformat": 4,
  "nbformat_minor": 0,
  "metadata": {
    "colab": {
      "provenance": [],
      "authorship_tag": "ABX9TyMFlVf3pnpomirU7Vp5d1FS",
      "include_colab_link": true
    },
    "kernelspec": {
      "name": "python3",
      "display_name": "Python 3"
    },
    "language_info": {
      "name": "python"
    }
  },
  "cells": [
    {
      "cell_type": "markdown",
      "metadata": {
        "id": "view-in-github",
        "colab_type": "text"
      },
      "source": [
        "<a href=\"https://colab.research.google.com/github/ChristianJorosJimenez/DSA-CPE010-CPE21S1/blob/main/Exercise5.ipynb\" target=\"_parent\"><img src=\"https://colab.research.google.com/assets/colab-badge.svg\" alt=\"Open In Colab\"/></a>"
      ]
    },
    {
      "cell_type": "markdown",
      "source": [
        "STACKS AND QUEUES C++\n"
      ],
      "metadata": {
        "id": "BMhJZqqxT8UL"
      }
    },
    {
      "cell_type": "markdown",
      "source": [
        "Stack Function C++"
      ],
      "metadata": {
        "id": "_xsXyfy1Tzdz"
      }
    },
    {
      "cell_type": "code",
      "source": [
        "#include <iostream>\n",
        "#include <stack>\n",
        "using namespace std;\n",
        "\n",
        "void display(stack<string> pl);\n",
        "int main ()\n",
        "{\n",
        "  stack<string> pl;\n",
        "  pl.push(\"C++\");\n",
        "  pl.push(\"Java\");\n",
        "  pl.push(\"Python\");\n",
        "  cout << \"Initial stack:\"; display (pl);\n",
        "\n",
        "  pl.pop();\n",
        "  pl.pop();\n",
        "  cout<<\"in\"<<\"Final Stack:\"; display (pl);\n",
        "  return 0;\n",
        "}\n",
        "void display(stack<string> pl)\n",
        "{\n",
        "  while(!pl.empty()) {\n",
        "\n",
        "\n",
        "    cout<<pl.top();\n",
        "  pl.pop();\n",
        "  }\n",
        "}"
      ],
      "metadata": {
        "colab": {
          "base_uri": "https://localhost:8080/",
          "height": 108
        },
        "id": "zYjXpvhjRejq",
        "outputId": "3b4ac71b-d1ef-4c3b-f49e-f8181f592264"
      },
      "execution_count": 2,
      "outputs": [
        {
          "output_type": "error",
          "ename": "SyntaxError",
          "evalue": "invalid syntax (<ipython-input-2-bfbcc150b885>, line 3)",
          "traceback": [
            "\u001b[0;36m  File \u001b[0;32m\"<ipython-input-2-bfbcc150b885>\"\u001b[0;36m, line \u001b[0;32m3\u001b[0m\n\u001b[0;31m    using namespace std;\u001b[0m\n\u001b[0m          ^\u001b[0m\n\u001b[0;31mSyntaxError\u001b[0m\u001b[0;31m:\u001b[0m invalid syntax\n"
          ]
        }
      ]
    },
    {
      "cell_type": "markdown",
      "source": [
        "Queue Function C++"
      ],
      "metadata": {
        "id": "OV4qgFOnT3vy"
      }
    },
    {
      "cell_type": "code",
      "source": [
        "#include <iostream>\n",
        "#include <queue>\n",
        "using namespace std;\n",
        "\n",
        "void display(queue<string> pl);\n",
        "int main ()\n",
        "{\n",
        "  queue<string> pl;\n",
        "  pl.push(\"C++\");\n",
        "  pl.push(\"Java\");\n",
        "  pl.push(\"Python\");\n",
        "  cout << \"Initial Queue:\"; display (pl);\n",
        "\n",
        "  pl.pop();\n",
        "  pl.pop();\n",
        "  cout<<\"in\"<<\"Final Queue:\"; display (pl);\n",
        "  return 0;\n",
        "}\n",
        "void display(queue<string> pl)\n",
        "{\n",
        "  while(!pl.empty()) {\n",
        "\n",
        "\n",
        "    cout<<pl.front();\n",
        "    pl.pop();\n",
        "  }\n",
        "}"
      ],
      "metadata": {
        "id": "kKVrdbYIS9wc"
      },
      "execution_count": null,
      "outputs": []
    }
  ]
}