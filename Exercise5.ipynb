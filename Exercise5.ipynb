{
  "nbformat": 4,
  "nbformat_minor": 0,
  "metadata": {
    "colab": {
      "provenance": [],
      "authorship_tag": "ABX9TyMhEuR4pZAaAkeywtE0jwR8",
      "include_colab_link": true
    },
    "kernelspec": {
      "name": "python3",
      "display_name": "Python 3"
    },
    "language_info": {
      "name": "python"
    }
  },
  "cells": [
    {
      "cell_type": "markdown",
      "metadata": {
        "id": "view-in-github",
        "colab_type": "text"
      },
      "source": [
        "<a href=\"https://colab.research.google.com/github/ChristianJorosJimenez/DSA-CPE010-CPE21S1/blob/main/Exercise5.ipynb\" target=\"_parent\"><img src=\"https://colab.research.google.com/assets/colab-badge.svg\" alt=\"Open In Colab\"/></a>"
      ]
    },
    {
      "cell_type": "markdown",
      "source": [
        "Example 1"
      ],
      "metadata": {
        "id": "XVpuqaQibjO1"
      }
    },
    {
      "cell_type": "code",
      "execution_count": 2,
      "metadata": {
        "colab": {
          "base_uri": "https://localhost:8080/",
          "height": 35
        },
        "id": "06RVJE0SaoKK",
        "outputId": "a66b2cb8-0e69-41c9-d414-f317405c5cca"
      },
      "outputs": [
        {
          "output_type": "execute_result",
          "data": {
            "text/plain": [
              "'f'"
            ],
            "application/vnd.google.colaboratory.intrinsic+json": {
              "type": "string"
            }
          },
          "metadata": {},
          "execution_count": 2
        }
      ],
      "source": [
        "import array\n",
        "array.typecodes\n",
        "a = array.array('i',[1,2,3,4,5,6])\n",
        "b = array.array('f',[1.5,2.5,3.5,4.5,5.5,6.5])\n",
        "a.typecode\n",
        "b.typecode"
      ]
    },
    {
      "cell_type": "markdown",
      "source": [
        "example 2\n"
      ],
      "metadata": {
        "id": "4vC4oF_Pbnsq"
      }
    },
    {
      "cell_type": "code",
      "source": [
        "import array\n",
        "array.typecodes\n",
        "a = array.array('f',[1,2,3,4,5,6])\n",
        "b = array.array('f',[1.5,2.5,3.5,4.5,5.5,6.5])\n",
        "a.typecode\n",
        "b.typecode"
      ],
      "metadata": {
        "colab": {
          "base_uri": "https://localhost:8080/",
          "height": 35
        },
        "id": "_IfSFePabo2i",
        "outputId": "56b8c740-375b-4a21-eed0-8ec48ce22783"
      },
      "execution_count": 3,
      "outputs": [
        {
          "output_type": "execute_result",
          "data": {
            "text/plain": [
              "'f'"
            ],
            "application/vnd.google.colaboratory.intrinsic+json": {
              "type": "string"
            }
          },
          "metadata": {},
          "execution_count": 3
        }
      ]
    },
    {
      "cell_type": "code",
      "source": [
        "from array import array\n",
        "a=array('i',[4,5,6,7])\n",
        "a.insert(1,2)\n",
        "array('i',[4,2,5,6,7])\n",
        "a.insert(-1,10)\n",
        "a.insert(10,-1)\n",
        "a\n",
        "array('i',[4,2,5,6,0,7,-1])\n"
      ],
      "metadata": {
        "colab": {
          "base_uri": "https://localhost:8080/"
        },
        "id": "pBUw7a_MccSE",
        "outputId": "7eb949c0-178b-4439-82b8-e1f7600e39d8"
      },
      "execution_count": 7,
      "outputs": [
        {
          "output_type": "execute_result",
          "data": {
            "text/plain": [
              "array('i', [4, 2, 5, 6, 0, 7, -1])"
            ]
          },
          "metadata": {},
          "execution_count": 7
        }
      ]
    },
    {
      "cell_type": "markdown",
      "source": [
        "example 3-4\n"
      ],
      "metadata": {
        "id": "lNF2-Y3VeGA7"
      }
    },
    {
      "cell_type": "code",
      "source": [
        "# Node class\n",
        "class node:\n",
        "\n",
        "  # Fcuntion to initialize the node object\n",
        "  def __init__(self, data):\n",
        "    self.data = data # Assign data\n",
        "    self.next = None # Initialize next as null\n",
        "\n",
        "    # linked list class\n",
        "class LinkedList:\n",
        "\n",
        "      #Function to initilize the linked\n",
        "      # list Object\n",
        "\n",
        "    def __init__(self):\n",
        "      self.head = None\n",
        "\n",
        "          # Start with the empty list\n",
        "llist = LinkedList()\n",
        "\n",
        "llist.head = node(1)\n",
        "second = node(2)\n",
        "third = node(3)\n",
        "\n",
        "llist.head.next = second; # Link first node with second\n",
        "second.next = third; # Link second node with the third node\n",
        "\n",
        "def printdata(self):\n",
        "    temp = self.head\n",
        "    while(temp):\n",
        "        print(temp.data)\n",
        "        temp = temp.next\n",
        "\n",
        "printdata(llist)"
      ],
      "metadata": {
        "colab": {
          "base_uri": "https://localhost:8080/"
        },
        "id": "ltAqzHH4eHU6",
        "outputId": "1b666578-7520-44c4-dc43-684bb9ba7424"
      },
      "execution_count": 25,
      "outputs": [
        {
          "output_type": "stream",
          "name": "stdout",
          "text": [
            "1\n",
            "2\n",
            "3\n"
          ]
        }
      ]
    },
    {
      "cell_type": "markdown",
      "source": [
        "C++ CODE"
      ],
      "metadata": {
        "id": "jXla9rOXqEQF"
      }
    },
    {
      "cell_type": "code",
      "source": [
        "#include <iostream>\n",
        "\n",
        "class Node {\n",
        "    public:\n",
        "  int value;\n",
        "  Node* next;\n",
        "};\n",
        "\n",
        "int main() {\n",
        "  Node* head;\n",
        "  Node* one = NULL;\n",
        "  Node* two = NULL;\n",
        "  Node* three = NULL;\n",
        "\n",
        "  one = new Node();\n",
        "  two = new Node();\n",
        "  three = new Node();\n",
        "\n",
        "  one->value = 1;\n",
        "  two->value = 2;\n",
        "  three->value = 3;\n",
        "\n",
        "  one->next = two;\n",
        "  two->next = three;\n",
        "  three->next = NULL;\n",
        "\n",
        "  head = one;\n",
        "  while (head !=NULL ){\n",
        "    std::cout << head->value;\n",
        "    head = head->next;\n",
        "  }\n",
        "\n",
        "  return 0;\n",
        "}"
      ],
      "metadata": {
        "id": "j4SbHS06qDp7"
      },
      "execution_count": null,
      "outputs": []
    }
  ]
}