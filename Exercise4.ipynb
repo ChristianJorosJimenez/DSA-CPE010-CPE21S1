{
  "nbformat": 4,
  "nbformat_minor": 0,
  "metadata": {
    "colab": {
      "provenance": [],
      "authorship_tag": "ABX9TyN/NEbwempk4pWmq7ZB6xuO",
      "include_colab_link": true
    },
    "kernelspec": {
      "name": "python3",
      "display_name": "Python 3"
    },
    "language_info": {
      "name": "python"
    }
  },
  "cells": [
    {
      "cell_type": "markdown",
      "metadata": {
        "id": "view-in-github",
        "colab_type": "text"
      },
      "source": [
        "<a href=\"https://colab.research.google.com/github/ChristianJorosJimenez/DSA-CPE010-CPE21S1/blob/main/Exercise4.ipynb\" target=\"_parent\"><img src=\"https://colab.research.google.com/assets/colab-badge.svg\" alt=\"Open In Colab\"/></a>"
      ]
    },
    {
      "cell_type": "markdown",
      "source": [
        "Reversing all characters of a word in an array"
      ],
      "metadata": {
        "id": "SLML6vIqz2h1"
      }
    },
    {
      "cell_type": "code",
      "execution_count": 2,
      "metadata": {
        "colab": {
          "base_uri": "https://localhost:8080/"
        },
        "id": "LAhVPKWhz1o-",
        "outputId": "a853756d-cf2b-46ee-f49b-4169f9085779"
      },
      "outputs": [
        {
          "output_type": "stream",
          "name": "stdout",
          "text": [
            "erutcurtS ataD\n",
            "gnimmargorP detneirO tcejbO\n",
            "smhtiroglA\n"
          ]
        }
      ],
      "source": [
        "words = [\"Data Structure\", \"Object Oriented Programming\", \"Algorithms\"]\n",
        "\n",
        "for name in words:\n",
        "      print(name[::-1])\n"
      ]
    }
  ]
}