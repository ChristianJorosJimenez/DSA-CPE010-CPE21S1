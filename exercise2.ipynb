{
  "nbformat": 4,
  "nbformat_minor": 0,
  "metadata": {
    "colab": {
      "provenance": [],
      "authorship_tag": "ABX9TyO+UVrPS1VX64yP5ZpG+YDf",
      "include_colab_link": true
    },
    "kernelspec": {
      "name": "python3",
      "display_name": "Python 3"
    },
    "language_info": {
      "name": "python"
    }
  },
  "cells": [
    {
      "cell_type": "markdown",
      "metadata": {
        "id": "view-in-github",
        "colab_type": "text"
      },
      "source": [
        "<a href=\"https://colab.research.google.com/github/ChristianJorosJimenez/DSA-CPE010-CPE21S1/blob/main/exercise2.ipynb\" target=\"_parent\"><img src=\"https://colab.research.google.com/assets/colab-badge.svg\" alt=\"Open In Colab\"/></a>"
      ]
    },
    {
      "cell_type": "markdown",
      "source": [
        "**Christian Joros Jimenez**"
      ],
      "metadata": {
        "id": "TXNPPVoDOHkU"
      }
    },
    {
      "cell_type": "markdown",
      "source": [
        "**CPE21S1**"
      ],
      "metadata": {
        "id": "x2C1wNJ4OMP0"
      }
    },
    {
      "cell_type": "code",
      "source": [
        "class Shapes:\n",
        "  def __init__(self):\n",
        "      pass\n",
        "\n",
        "  def area(self):\n",
        "      raise NotImplementedError(\"Area method not implemented for this shape\")\n",
        "\n",
        "class Triangle(Shapes):\n",
        "  def __init__(self, base, height):\n",
        "      super().__init__()\n",
        "      self.base = base\n",
        "      self.height = height\n",
        "\n",
        "  def area(self):\n",
        "      return 0.5 * self.base * self.height\n",
        "\n",
        "class Square(Shapes):\n",
        "  def __init__(self, side):\n",
        "      super().__init__()\n",
        "      self.side = side\n",
        "\n",
        "  def area(self):\n",
        "      return self.side * self.side\n",
        "\n",
        "class Rectangle:\n",
        "  def __init__(self, length, width):\n",
        "    super().__init__()\n",
        "    self.length = length\n",
        "    self.width = width\n",
        "  def area(self):\n",
        "    return self.length * self.width\n",
        "\n",
        "# User Input\n",
        "length = float(input(\"Enter the length of the rectangle: \"))\n",
        "width = float(input(\"Enter the width of the rectangle: \"))\n",
        "\n",
        "triangle_base = float(input(\"Enter the base of the triangle: \"))\n",
        "triangle_height = float(input(\"Enter the height of the triangle: \"))\n",
        "\n",
        "square_side = float(input(\"Enter the side of the square: \"))\n",
        "\n",
        "# Create objects\n",
        "rectangle = Rectangle(length, width)\n",
        "triangle = Triangle(triangle_base, triangle_height)\n",
        "square = Square(square_side)\n",
        "\n",
        "# Calculate and display areas\n",
        "print(f\"The area of the rectangle is: {rectangle.area()}\")\n",
        "print(f\"The area of the triangle is: {triangle.area()}\")\n",
        "print(f\"The area of the square is: {square.area()}\")"
      ],
      "metadata": {
        "colab": {
          "base_uri": "https://localhost:8080/"
        },
        "id": "-3HB2xwdOOqd",
        "outputId": "44b0dd71-7c60-4525-f12e-13a51750180d"
      },
      "execution_count": 6,
      "outputs": [
        {
          "output_type": "stream",
          "name": "stdout",
          "text": [
            "Enter the length of the rectangle: 6\n",
            "Enter the width of the rectangle: 6\n",
            "Enter the base of the triangle: 6\n",
            "Enter the height of the triangle: 7\n",
            "Enter the side of the square: 7\n",
            "The area of the rectangle is: 36.0\n",
            "The area of the triangle is: 21.0\n",
            "The area of the square is: 49.0\n"
          ]
        }
      ]
    }
  ]
}